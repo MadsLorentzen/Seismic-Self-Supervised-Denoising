{
 "cells": [
  {
   "cell_type": "markdown",
   "id": "5960fec8",
   "metadata": {},
   "source": [
    "# SELF-SUPERVISED DENOISING: PART ONE\n",
    "### Authors: Claire Birnie and Sixiu Liu, KAUST\n",
    "\n",
    "Author websites: \n",
    "- https://cebirnie92.github.io/ \n",
    "- https://swagroup.kaust.edu.sa/people/detail/sixiu-liu-(%E5%88%98%E6%80%9D%E7%A7%80))"
   ]
  },
  {
   "cell_type": "markdown",
   "id": "46bdf19b",
   "metadata": {},
   "source": [
    "## Tutorial Overview\n",
    "\n",
    "On completion of this tutorial you will have learnt how to write your own blind-spot denoising procedure that is trained in a self-supervised manner, i.e., the training data is the same as the inference data with no labels required!\n",
    "\n",
    "### Methodology Recap\n",
    "We will implement the Noise2Void "
   ]
  },
  {
   "cell_type": "markdown",
   "id": "904afec8",
   "metadata": {},
   "source": [
    "***"
   ]
  },
  {
   "cell_type": "code",
   "execution_count": 3,
   "id": "5fe651d9",
   "metadata": {},
   "outputs": [],
   "source": [
    "# Import necessary packages\n",
    "import numpy as np\n",
    "\n",
    "import torch\n",
    "import torch.nn as nn\n",
    "from torch.utils.data import TensorDataset, DataLoader \n",
    "\n",
    "# Our unet functions just to speed things up\n",
    "from unet import UNet"
   ]
  },
  {
   "cell_type": "markdown",
   "id": "0965b28e",
   "metadata": {},
   "source": [
    "***"
   ]
  },
  {
   "cell_type": "markdown",
   "id": "af110b58",
   "metadata": {},
   "source": [
    "# Step One - Data loading\n",
    "\n",
    "In this example we are going to use a post-stack seismic section generated from the Hess VTI model. The post-stack section can be downloaded from: XXXX"
   ]
  },
  {
   "cell_type": "code",
   "execution_count": null,
   "id": "33f35f5b",
   "metadata": {},
   "outputs": [],
   "source": []
  },
  {
   "cell_type": "markdown",
   "id": "3526f914",
   "metadata": {},
   "source": [
    "***"
   ]
  },
  {
   "cell_type": "markdown",
   "id": "5020ab55",
   "metadata": {},
   "source": [
    "# Step Two - Blindspot corruption of training data"
   ]
  },
  {
   "cell_type": "code",
   "execution_count": null,
   "id": "e81b55d3",
   "metadata": {},
   "outputs": [],
   "source": [
    "# Create a function that randomly selects and corrupts pixels following N2V methodology\n",
    "def multi_active_pixels(patch, \n",
    "                        num_activepixels, \n",
    "                        neighbourhood_radius=5, \n",
    "                        swap=True):\n",
    "\n",
    "    n_rad = neighbourhood_radius  # descriptive variable name too long\n",
    "\n",
    "    # Select multiple locations for active pixels\n",
    "    idx_aps = np.random.randint(0, patch.shape[0], num_activepixels)\n",
    "    idy_aps = np.random.randint(0, patch.shape[1], num_activepixels)\n",
    "\n",
    "    # For each active pixel compute shift for finding neighbouring pixel and find pixel\n",
    "    x_neigh_shft = np.random.randint(-n_rad // 2 + n_rad % 2, n_rad // 2 + n_rad % 2, num_activepixels)\n",
    "    y_neigh_shft = np.random.randint(-n_rad // 2 + n_rad % 2, n_rad // 2 + n_rad % 2, num_activepixels)\n",
    "    \n",
    "    # OPTIONAL: don't allow replacement with itself\n",
    "    for i in range(len(x_neigh_shft)):\n",
    "        if x_neigh_shft[i] == 0 and y_neigh_shft[i] == 0:\n",
    "            # This means its replacing itself with itself...not good!\n",
    "            shft_options = np.trim_zeros(np.arange(-n_rad // 2 + 1, n_rad // 2 + 1))\n",
    "            x_neigh_shft[i] = np.random.choice(shft_options[shft_options != 0], 1)\n",
    "\n",
    "    # Find x and y locations of neighbours for the replacement\n",
    "    idx_neigh = idx_aps + x_neigh_shft\n",
    "    idy_neigh = idy_aps + y_neigh_shft\n",
    "\n",
    "    # Make sure neighbouring pixels within window\n",
    "    idx_neigh = idx_neigh + (idx_neigh < 0) * patch.shape[0] - (idx_neigh >= patch.shape[0]) * patch.shape[0]\n",
    "    idy_neigh = idy_neigh + (idy_neigh < 0) * patch.shape[1] - (idy_neigh >= patch.shape[1]) * patch.shape[1]\n",
    "    \n",
    "    # combine x and y coordinates for active pixels and neighbouring pixels\n",
    "    id_aps = (idx_aps, idy_aps)\n",
    "    id_neigh = (idx_neigh, idy_neigh)\n",
    "    \n",
    "    # Make mask and corrupted patch\n",
    "    mask = np.ones_like(patch)\n",
    "    cp_ptch = patch.copy()\n",
    "    mask[id_aps] = 0.\n",
    "    if swap:\n",
    "        cp_ptch[id_aps] = patch[id_neigh]\n",
    "    else:\n",
    "        cp_ptch[id_aps] = 0\n",
    "\n",
    "    return cp_ptch, mask\n"
   ]
  },
  {
   "cell_type": "code",
   "execution_count": null,
   "id": "a5949a07",
   "metadata": {},
   "outputs": [],
   "source": [
    "# Check the corruption function works\n"
   ]
  },
  {
   "cell_type": "markdown",
   "id": "d98452db",
   "metadata": {},
   "source": [
    "***"
   ]
  },
  {
   "cell_type": "markdown",
   "id": "45770a64",
   "metadata": {},
   "source": [
    "# Step three - Set up network"
   ]
  },
  {
   "cell_type": "code",
   "execution_count": null,
   "id": "cbcb54c8",
   "metadata": {},
   "outputs": [],
   "source": [
    "# Select device for training\n",
    "device = 'cpu'\n",
    "if torch.cuda.device_count() > 0 and torch.cuda.is_available():\n",
    "    print(\"Cuda installed! Running on GPU!\")\n",
    "    device = torch.device(torch.cuda.current_device())\n",
    "    print(f'Device: {device} {torch.cuda.get_device_name(device)}')\n",
    "else:\n",
    "    print(\"No GPU available!\")"
   ]
  },
  {
   "cell_type": "code",
   "execution_count": null,
   "id": "1b866458",
   "metadata": {},
   "outputs": [],
   "source": [
    "# Build UNet\n",
    "network = unet.UNet(input_channels=1, \n",
    "                    output_channels=1, \n",
    "                    hidden_channels=32, \n",
    "                    levels=4).to(device)\n",
    "\n",
    "network = network.apply(weights_init) "
   ]
  },
  {
   "cell_type": "code",
   "execution_count": null,
   "id": "966d4b34",
   "metadata": {},
   "outputs": [],
   "source": [
    "# Network initialisation steps\n",
    "n_epochs = 101\n",
    "lr = 0.0001\n",
    "criterion = nn.L1Loss()\n",
    "optim = torch.optim.Adam(network.parameters(), lr=lr)"
   ]
  },
  {
   "cell_type": "markdown",
   "id": "7b95ff65",
   "metadata": {},
   "source": [
    "***"
   ]
  },
  {
   "cell_type": "markdown",
   "id": "b005bca4",
   "metadata": {},
   "source": [
    "# Step four - training"
   ]
  },
  {
   "cell_type": "code",
   "execution_count": null,
   "id": "6e618ef2",
   "metadata": {},
   "outputs": [],
   "source": [
    "# Initial train and val \n",
    "train_loss_history = np.zeros(n_epochs)\n",
    "train_accuracy_history = np.zeros(n_epochs)\n",
    "val_loss_history = np.zeros(n_epochs)\n",
    "val_accuracy_history = np.zeros(n_epochs)\n",
    "\n",
    "# Create DataLoaders fixing the generator for reproducibily\n",
    "g = torch.Generator()\n",
    "g.manual_seed(0)"
   ]
  },
  {
   "cell_type": "code",
   "execution_count": 4,
   "id": "f1ee226f",
   "metadata": {},
   "outputs": [],
   "source": [
    "def n2v_train(model, \n",
    "              criterion, \n",
    "              optimizer, \n",
    "              data_loader, \n",
    "              device):\n",
    "    \n",
    "    model.train()\n",
    "    accuracy = 0\n",
    "    loss = 0\n",
    "\n",
    "    for dl in tqdm(data_loader):\n",
    "        X, y, mask = dl[0], dl[1], dl[2]\n",
    "        X, y, mask = X.to(device), y.to(device), mask.to(device)\n",
    "        optimizer.zero_grad()\n",
    "\n",
    "        yprob = model(X)\n",
    "\n",
    "        ls = criterion(yprob * (1 - mask), y * (1 - mask))\n",
    "        ls.backward()\n",
    "        optimizer.step()\n",
    "        with torch.no_grad():\n",
    "            yprob = yprob\n",
    "            ypred = (yprob.detach().cpu().numpy()).astype(float)\n",
    "        loss += ls.item()\n",
    "        accuracy += np.sqrt(np.mean((y.cpu().numpy().ravel( ) - ypred.ravel() )**2))\n",
    "        \n",
    "    loss /= len(data_loader)\n",
    "    accuracy /= len(data_loader)   \n",
    "\n",
    "    return loss, accuracy, dict({'psnr':psnr, 'rre':rre})"
   ]
  },
  {
   "cell_type": "code",
   "execution_count": null,
   "id": "95d39caa",
   "metadata": {},
   "outputs": [],
   "source": []
  }
 ],
 "metadata": {
  "kernelspec": {
   "display_name": "Python 3 (ipykernel)",
   "language": "python",
   "name": "python3"
  },
  "language_info": {
   "codemirror_mode": {
    "name": "ipython",
    "version": 3
   },
   "file_extension": ".py",
   "mimetype": "text/x-python",
   "name": "python",
   "nbconvert_exporter": "python",
   "pygments_lexer": "ipython3",
   "version": "3.8.13"
  }
 },
 "nbformat": 4,
 "nbformat_minor": 5
}
